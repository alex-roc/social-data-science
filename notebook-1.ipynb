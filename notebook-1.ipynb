{
 "cells": [
  {
   "cell_type": "markdown",
   "id": "a672128c",
   "metadata": {},
   "source": [
    "# EDA: Adopción de Internet y desigualdad"
   ]
  },
  {
   "cell_type": "code",
   "execution_count": null,
   "id": "7bf036e0",
   "metadata": {},
   "outputs": [],
   "source": [
    "%pip install pandas seaborn requests pycountry"
   ]
  },
  {
   "cell_type": "code",
   "execution_count": null,
   "id": "722a84eb",
   "metadata": {},
   "outputs": [],
   "source": [
    "import pandas as pd, requests, pycountry\n",
    "import seaborn as sns, matplotlib.pyplot as plt\n",
    "\n",
    "COUNTRIES = \"ARG;BOL;BRA;CHL;COL;ECU;PRY;PER;URY;VEN\"\n",
    "BASE = \"https://api.worldbank.org/v2/country/{countries}/indicator/{indicator}?format=json&per_page=20000\"\n",
    "def wb_series(indicator):\n",
    "    r = requests.get(BASE.format(countries=COUNTRIES, indicator=indicator))\n",
    "    r.raise_for_status()\n",
    "    data = r.json()[1]\n",
    "    df = pd.DataFrame(data)[[\"country\",\"date\",\"value\"]]\n",
    "    df[\"country\"] = df[\"country\"].apply(lambda x: x[\"value\"])\n",
    "    df[\"date\"] = pd.to_numeric(df[\"date\"], errors=\"coerce\")\n",
    "    df[\"value\"] = pd.to_numeric(df[\"value\"], errors=\"coerce\")\n",
    "    return df.dropna(subset=[\"date\"]).astype({\"date\":\"int\"})\n"
   ]
  },
  {
   "cell_type": "markdown",
   "id": "43fa8235",
   "metadata": {},
   "source": [
    "## EDA: adopción de Internet"
   ]
  },
  {
   "cell_type": "code",
   "execution_count": null,
   "id": "44ab890d",
   "metadata": {},
   "outputs": [],
   "source": [
    "internet = wb_series(\"IT.NET.USER.ZS\")  # % de población\n",
    "internet = internet.query(\"date >= 2000\").dropna(subset=[\"value\"])\n",
    "plt.figure(figsize=(9,5))\n",
    "sns.lineplot(data=internet, x=\"date\", y=\"value\", hue=\"country\")\n",
    "plt.title(\"Usuarios de Internet (% pobl.) — Sudamérica\")\n",
    "plt.xlabel(\"Año\"); plt.ylabel(\"% de población\"); plt.legend(bbox_to_anchor=(1.02, 1), loc=\"upper left\")\n",
    "plt.tight_layout()\n"
   ]
  },
  {
   "cell_type": "markdown",
   "id": "2ab99de3",
   "metadata": {},
   "source": [
    "## Cruce con desigualdad (Gini)"
   ]
  },
  {
   "cell_type": "code",
   "execution_count": null,
   "id": "ceb75e11",
   "metadata": {},
   "outputs": [],
   "source": [
    "gini = wb_series(\"SI.POV.GINI\")\n",
    "gini_ult = gini.sort_values([\"country\",\"date\"]).groupby(\"country\").tail(1)\n",
    "internet_ult = internet.sort_values([\"country\",\"date\"]).groupby(\"country\").tail(1)\n",
    "df = pd.merge(internet_ult, gini_ult, on=\"country\", suffixes=(\"_internet\",\"_gini\"))\n",
    "df = df.rename(columns={\"value_internet\":\"internet_pct\",\"value_gini\":\"gini\"})\n",
    "plt.figure(figsize=(6,5))\n",
    "sns.regplot(data=df, x=\"internet_pct\", y=\"gini\")\n",
    "for _, r in df.iterrows():\n",
    "    plt.text(r[\"internet_pct\"]+0.2, r[\"gini\"]+0.2, r[\"country\"][:3])\n",
    "plt.title(\"Internet vs. Gini (último año disponible)\")\n",
    "plt.xlabel(\"% usuarios Internet\"); plt.ylabel(\"Índice Gini\")\n",
    "plt.tight_layout()\n",
    "df.sort_values(\"internet_pct\", ascending=False).head()\n"
   ]
  },
  {
   "cell_type": "markdown",
   "id": "07ebfff5",
   "metadata": {},
   "source": [
    "# Caso Bolivia: trayectoria y benchmarks"
   ]
  },
  {
   "cell_type": "code",
   "execution_count": null,
   "id": "961fa67e",
   "metadata": {},
   "outputs": [],
   "source": [
    "bol = internet.query(\"country == 'Bolivia'\").copy()\n",
    "peer = internet.query(\"country in ['Peru','Paraguay','Chile','Argentina','Brazil']\") \n",
    "plt.figure(figsize=(9,5))\n",
    "sns.lineplot(data=peer, x=\"date\", y=\"value\", hue=\"country\", alpha=0.4)\n",
    "sns.lineplot(data=bol, x=\"date\", y=\"value\", color=\"black\", linewidth=2, label=\"Bolivia\")\n",
    "plt.title(\"Bolivia vs. pares regionales — Usuarios de Internet (%)\")\n",
    "plt.xlabel(\"Año\"); plt.ylabel(\"% de población\"); plt.legend(bbox_to_anchor=(1.02, 1), loc=\"upper left\")\n",
    "plt.tight_layout()\n"
   ]
  }
 ],
 "metadata": {
  "kernelspec": {
   "display_name": "Python 3",
   "language": "python",
   "name": "python3"
  },
  "language_info": {
   "name": "python",
   "version": "3.11.8"
  }
 },
 "nbformat": 4,
 "nbformat_minor": 5
}
