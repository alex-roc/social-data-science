{
 "cells": [
  {
   "cell_type": "markdown",
   "id": "5a9acfda",
   "metadata": {},
   "source": [
    "# Análisis de redes sociales"
   ]
  },
  {
   "cell_type": "code",
   "execution_count": null,
   "id": "ee7e4bce",
   "metadata": {},
   "outputs": [],
   "source": [
    "%pip install pandas networkx matplotlib praw python-dotenv"
   ]
  },
  {
   "cell_type": "code",
   "execution_count": null,
   "id": "8f24df26",
   "metadata": {},
   "outputs": [],
   "source": [
    "import os, pandas as pd, networkx as nx, matplotlib.pyplot as plt\n",
    "from dotenv import load_dotenv; load_dotenv()\n",
    "\n",
    "import praw\n",
    "reddit = praw.Reddit(\n",
    "    client_id=os.getenv(\"REDDIT_CLIENT_ID\"),\n",
    "    client_secret=os.getenv(\"REDDIT_CLIENT_SECRET\"),\n",
    "    user_agent=\"sds-mod3-practico/1.0 (by u/TU_USUARIO)\"\n",
    ")  # OAuth + buen user agent, como pide Reddit. :contentReference[oaicite:3]{index=3}\n"
   ]
  },
  {
   "cell_type": "markdown",
   "id": "7d728f0a",
   "metadata": {},
   "source": [
    "## Descargar hilos y comentarios (últimos N por subreddit)"
   ]
  },
  {
   "cell_type": "code",
   "execution_count": null,
   "id": "9a3e730c",
   "metadata": {},
   "outputs": [],
   "source": [
    "SUBS = [\"bolivia\", \"argentina\", \"peru\"]\n",
    "N_SUBMISSIONS = 60  # ajústalo a la cuota/límites del aula\n",
    "\n",
    "rows = []\n",
    "for s in SUBS:\n",
    "    for post in reddit.subreddit(s).new(limit=N_SUBMISSIONS):\n",
    "        post.comments.replace_more(limit=0)  # expandir arbol de comentarios  :contentReference[oaicite:4]{index=4}\n",
    "        for c in post.comments.list():\n",
    "            parent_author = None\n",
    "            if not c.is_root:\n",
    "                try:\n",
    "                    parent_author = str(c.parent().author)  # autor del padre  :contentReference[oaicite:5]{index=5}\n",
    "                except Exception:\n",
    "                    parent_author = None\n",
    "            rows.append({\n",
    "                \"subreddit\": s,\n",
    "                \"post_id\": post.id,\n",
    "                \"comment_id\": c.id,\n",
    "                \"author\": str(c.author) if c.author else \"[deleted]\",\n",
    "                \"reply_to\": parent_author,\n",
    "                \"is_root\": c.is_root\n",
    "            })\n",
    "df = pd.DataFrame(rows)\n",
    "df.head()\n"
   ]
  },
  {
   "cell_type": "markdown",
   "id": "45046648",
   "metadata": {},
   "source": [
    "## Construir grafo dirigido (responde→a_quién)"
   ]
  },
  {
   "cell_type": "code",
   "execution_count": null,
   "id": "769ffff3",
   "metadata": {},
   "outputs": [],
   "source": [
    "edges = (df.query(\"~is_root and author != '[deleted]' and reply_to.notnull() and reply_to != '[deleted]'\")\n",
    "           .groupby([\"author\",\"reply_to\"])\n",
    "           .size().reset_index(name=\"w\"))\n",
    "\n",
    "G = nx.DiGraph()\n",
    "G.add_weighted_edges_from(edges[[\"author\",\"reply_to\",\"w\"]].itertuples(index=False, name=None))\n",
    "len(G), G.number_of_edges()\n"
   ]
  },
  {
   "cell_type": "markdown",
   "id": "a71333db",
   "metadata": {},
   "source": [
    "## Centralidades = influencia/difusión"
   ]
  },
  {
   "cell_type": "code",
   "execution_count": null,
   "id": "94f7a619",
   "metadata": {},
   "outputs": [],
   "source": [
    "deg_in  = nx.in_degree_centrality(G)       # prestigio por recibir respuestas (autoridad local)\n",
    "btw     = nx.betweenness_centrality(G, weight=\"w\", normalized=True)   # “puentes” de conversación\n",
    "pr      = nx.pagerank(G, weight=\"w\")       # PageRank para prestigio global  :contentReference[oaicite:6]{index=6}\n",
    "\n",
    "rank = (pd.DataFrame({\n",
    "    \"usuario\": list(G.nodes()),\n",
    "    \"in_degree\": [deg_in[n] for n in G.nodes()],\n",
    "    \"betweenness\": [btw[n] for n in G.nodes()],\n",
    "    \"pagerank\": [pr[n] for n in G.nodes()],\n",
    "}).sort_values([\"pagerank\",\"in_degree\"], ascending=False))\n",
    "rank.head(15)\n"
   ]
  },
  {
   "cell_type": "markdown",
   "id": "eca122d4",
   "metadata": {},
   "source": [
    "## Comunidades (polarización estructural)"
   ]
  },
  {
   "cell_type": "code",
   "execution_count": null,
   "id": "40ffdb9b",
   "metadata": {},
   "outputs": [],
   "source": [
    "# Convertimos a no dirigida para modularidad (opción simple)\n",
    "UG = nx.Graph()\n",
    "for u,v,data in G.edges(data=True):\n",
    "    w = data.get(\"w\",1)\n",
    "    if UG.has_edge(u,v): UG[u][v][\"weight\"] += w\n",
    "    else: UG.add_edge(u,v,weight=w)\n",
    "\n",
    "from networkx.algorithms.community import louvain_communities\n",
    "from networkx.algorithms.community.quality import modularity\n",
    "coms = louvain_communities(UG, weight=\"weight\", seed=42)   # Louvain  :contentReference[oaicite:7]{index=7}\n",
    "Q = modularity(UG, coms, weight=\"weight\")                  # Q de Newman–Girvan  :contentReference[oaicite:8]{index=8}\n",
    "Q, [len(c) for c in coms[:5]]\n"
   ]
  },
  {
   "cell_type": "markdown",
   "id": "79ec4d60",
   "metadata": {},
   "source": [
    "## Visualización rápida"
   ]
  },
  {
   "cell_type": "markdown",
   "id": "5b026b5e",
   "metadata": {},
   "source": [
    "plt.figure(figsize=(9,7))\n",
    "pos = nx.spring_layout(UG, seed=7, weight=\"weight\")\n",
    "sizes = [3000*(rank.set_index(\"usuario\").loc[n,\"pagerank\"]+1e-3) if n in rank[\"usuario\"].values else 200 for n in UG.nodes()]\n",
    "nx.draw_networkx(UG, pos, with_labels=False, node_size=sizes, width=[UG[u][v][\"weight\"]**0.5 for u,v in UG.edges()])\n",
    "plt.title(\"Red de respuestas (Reddit) — últimos hilos\")\n",
    "plt.axis(\"off\"); plt.tight_layout()\n"
   ]
  },
  {
   "cell_type": "code",
   "execution_count": null,
   "id": "06fa836c",
   "metadata": {},
   "outputs": [],
   "source": []
  }
 ],
 "metadata": {
  "language_info": {
   "name": "python"
  }
 },
 "nbformat": 4,
 "nbformat_minor": 5
}
