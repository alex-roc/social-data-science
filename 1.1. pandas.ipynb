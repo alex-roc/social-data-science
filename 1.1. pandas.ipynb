{
 "cells": [
  {
   "cell_type": "markdown",
   "id": "4d739e5a",
   "metadata": {},
   "source": [
    "# Introducción a Pandas: Estructuras de Datos y Operaciones Básicas\n",
    "\n",
    "## ¿Qué es Pandas?\n",
    "\n",
    "**Pandas** es una biblioteca de Python que proporciona estructuras de datos y herramientas de análisis de datos de alto rendimiento y fáciles de usar. Es una de las herramientas más importantes para el análisis de datos en Python.\n",
    "\n",
    "## Principales Estructuras de Datos en Pandas\n",
    "\n",
    "Pandas tiene dos estructuras de datos principales:\n",
    "\n",
    "1. **Series**: Es como una columna de una tabla (array unidimensional con etiquetas)\n",
    "2. **DataFrame**: Es como una tabla completa (estructura bidimensional con filas y columnas)\n",
    "\n",
    "En este ejercicio aprenderemos a:\n",
    "- Crear Series y DataFrames\n",
    "- Acceder a los datos\n",
    "- Realizar operaciones básicas\n",
    "- Filtrar y manipular información\n",
    "\n",
    "¡Comencemos con ejemplos prácticos usando datos de estudiantes! 📚"
   ]
  },
  {
   "cell_type": "code",
   "execution_count": null,
   "id": "81f88cb8",
   "metadata": {},
   "outputs": [],
   "source": [
    "# Primero importamos pandas\n",
    "import pandas as pd\n",
    "import numpy as np\n",
    "\n",
    "# Verificamos la versión de pandas\n",
    "print(f\"Versión de pandas: {pd.__version__}\")\n",
    "print(\"¡Pandas importado correctamente! 🐼\")"
   ]
  },
  {
   "cell_type": "markdown",
   "id": "cb462aef",
   "metadata": {},
   "source": [
    "## 1. Pandas Series - Como una columna de datos\n",
    "\n",
    "Una **Series** es como una columna de una hoja de cálculo. Tiene:\n",
    "- **Datos**: Los valores que contiene\n",
    "- **Índice**: Las etiquetas para cada valor (por defecto son números)\n",
    "\n",
    "Veamos ejemplos con calificaciones de estudiantes:"
   ]
  },
  {
   "cell_type": "code",
   "execution_count": null,
   "id": "00710155",
   "metadata": {},
   "outputs": [],
   "source": [
    "# Creamos una Series con calificaciones de matemáticas\n",
    "calificaciones_matematicas = pd.Series([85, 92, 78, 96, 88])\n",
    "\n",
    "print(\"🧮 Calificaciones de Matemáticas:\")\n",
    "print(calificaciones_matematicas)\n",
    "print()\n",
    "\n",
    "# Veamos qué tipo de objeto es\n",
    "print(f\"Tipo: {type(calificaciones_matematicas)}\")\n",
    "print(f\"Forma: {calificaciones_matematicas.shape}\")  # (número de elementos,)"
   ]
  },
  {
   "cell_type": "code",
   "execution_count": null,
   "id": "50493ff5",
   "metadata": {},
   "outputs": [],
   "source": [
    "# Ahora creamos una Series con índices personalizados (nombres de estudiantes)\n",
    "nombres_estudiantes = ['Ana', 'Carlos', 'María', 'Pedro', 'Lucía']\n",
    "calificaciones_con_nombres = pd.Series([85, 92, 78, 96, 88], index=nombres_estudiantes)\n",
    "\n",
    "print(\"👨‍🎓 Calificaciones por estudiante:\")\n",
    "print(calificaciones_con_nombres)\n",
    "print()\n",
    "\n",
    "# Acceder a elementos específicos\n",
    "print(\"📊 Operaciones básicas con Series:\")\n",
    "print(f\"Calificación de María: {calificaciones_con_nombres['María']}\")\n",
    "print(f\"Calificación más alta: {calificaciones_con_nombres.max()}\")\n",
    "print(f\"Promedio: {calificaciones_con_nombres.mean():.1f}\")\n",
    "print(f\"Estudiante con mejor calificación: {calificaciones_con_nombres.idxmax()}\")"
   ]
  },
  {
   "cell_type": "markdown",
   "id": "15474899",
   "metadata": {},
   "source": [
    "## 2. Pandas DataFrame - Como una tabla completa\n",
    "\n",
    "Un **DataFrame** es como una hoja de cálculo o tabla de base de datos. Tiene:\n",
    "- **Filas**: Cada fila representa un registro/observación\n",
    "- **Columnas**: Cada columna representa una variable/característica\n",
    "- **Índices**: Etiquetas para las filas (similar a Series)\n",
    "\n",
    "Vamos a crear una tabla de información estudiantil completa:"
   ]
  },
  {
   "cell_type": "code",
   "execution_count": null,
   "id": "44414fc4",
   "metadata": {},
   "outputs": [],
   "source": [
    "# Método 1: Crear DataFrame desde un diccionario\n",
    "datos_estudiantes = {\n",
    "    'nombre': ['Ana', 'Carlos', 'María', 'Pedro', 'Lucía', 'David', 'Sofia'],\n",
    "    'edad': [20, 19, 21, 20, 22, 19, 20],\n",
    "    'carrera': ['Ingeniería', 'Psicología', 'Medicina', 'Ingeniería', 'Arte', 'Medicina', 'Psicología'],\n",
    "    'matematicas': [85, 92, 78, 96, 88, 82, 90],\n",
    "    'ciencias': [88, 85, 95, 89, 76, 91, 93],\n",
    "    'idiomas': [92, 78, 88, 85, 94, 87, 96]\n",
    "}\n",
    "\n",
    "df_estudiantes = pd.DataFrame(datos_estudiantes)\n",
    "\n",
    "print(\"🎓 Tabla de Estudiantes:\")\n",
    "print(df_estudiantes)\n",
    "print()\n",
    "print(f\"Forma del DataFrame: {df_estudiantes.shape}\")  # (filas, columnas)\n",
    "print(f\"Columnas: {list(df_estudiantes.columns)}\")"
   ]
  },
  {
   "cell_type": "code",
   "execution_count": null,
   "id": "edf6cfa4",
   "metadata": {},
   "outputs": [],
   "source": [
    "# Información básica del DataFrame\n",
    "print(\"📋 Información básica del DataFrame:\")\n",
    "print(\"\\n1. Primeras 3 filas:\")\n",
    "print(df_estudiantes.head(3))\n",
    "\n",
    "print(\"\\n2. Últimas 3 filas:\")\n",
    "print(df_estudiantes.tail(3))\n",
    "\n",
    "print(\"\\n3. Información general:\")\n",
    "print(df_estudiantes.info())\n",
    "\n",
    "print(\"\\n4. Estadísticas descriptivas:\")\n",
    "print(df_estudiantes.describe())"
   ]
  },
  {
   "cell_type": "markdown",
   "id": "32c0858e",
   "metadata": {},
   "source": [
    "## 3. Operaciones Básicas con DataFrames\n",
    "\n",
    "Ahora veamos las operaciones más comunes que podemos hacer con nuestros datos:"
   ]
  },
  {
   "cell_type": "code",
   "execution_count": null,
   "id": "fa50f795",
   "metadata": {},
   "outputs": [],
   "source": [
    "# 3.1 SELECCIONAR COLUMNAS\n",
    "print(\"🎯 Selección de Columnas:\")\n",
    "print(\"Solo nombres:\")\n",
    "print(df_estudiantes['nombre'])\n",
    "print()\n",
    "\n",
    "print(\"Múltiples columnas (nombre y edad):\")\n",
    "print(df_estudiantes[['nombre', 'edad']])\n",
    "print()\n",
    "\n",
    "# 3.2 SELECCIONAR FILAS POR ÍNDICE\n",
    "print(\"📍 Selección de Filas:\")\n",
    "print(\"Primera fila (índice 0):\")\n",
    "print(df_estudiantes.iloc[0])  # iloc = por posición\n",
    "print()\n",
    "\n",
    "print(\"Filas 1 a 3:\")\n",
    "print(df_estudiantes.iloc[1:4])  # [inicio:fin] (fin no incluido)"
   ]
  },
  {
   "cell_type": "code",
   "execution_count": null,
   "id": "388219b5",
   "metadata": {},
   "outputs": [],
   "source": [
    "# 3.3 FILTRAR DATOS (operaciones muy útiles!)\n",
    "print(\"🔍 Filtrado de Datos:\")\n",
    "\n",
    "# Estudiantes mayores de 20 años\n",
    "mayores_20 = df_estudiantes[df_estudiantes['edad'] > 20]\n",
    "print(\"Estudiantes mayores de 20 años:\")\n",
    "print(mayores_20[['nombre', 'edad']])\n",
    "print()\n",
    "\n",
    "# Estudiantes de Ingeniería\n",
    "ingenieros = df_estudiantes[df_estudiantes['carrera'] == 'Ingeniería']\n",
    "print(\"Estudiantes de Ingeniería:\")\n",
    "print(ingenieros[['nombre', 'carrera']])\n",
    "print()\n",
    "\n",
    "# Estudiantes con calificación alta en matemáticas (>= 90)\n",
    "matematicas_altas = df_estudiantes[df_estudiantes['matematicas'] >= 90]\n",
    "print(\"Estudiantes con calificación alta en matemáticas (≥90):\")\n",
    "print(matematicas_altas[['nombre', 'matematicas']])"
   ]
  },
  {
   "cell_type": "code",
   "execution_count": null,
   "id": "c8a0e66a",
   "metadata": {},
   "outputs": [],
   "source": [
    "# 3.4 ESTADÍSTICAS Y AGREGACIONES\n",
    "print(\"📊 Estadísticas por Materia:\")\n",
    "print(f\"Promedio en Matemáticas: {df_estudiantes['matematicas'].mean():.1f}\")\n",
    "print(f\"Promedio en Ciencias: {df_estudiantes['ciencias'].mean():.1f}\")\n",
    "print(f\"Promedio en Idiomas: {df_estudiantes['idiomas'].mean():.1f}\")\n",
    "print()\n",
    "\n",
    "print(\"Estadísticas por carrera:\")\n",
    "estadisticas_carrera = df_estudiantes.groupby('carrera')['matematicas'].agg(['count', 'mean', 'max'])\n",
    "print(estadisticas_carrera)\n",
    "print()\n",
    "\n",
    "# 3.5 CREAR NUEVAS COLUMNAS\n",
    "print(\"➕ Creando nueva columna (promedio general):\")\n",
    "df_estudiantes['promedio_general'] = (df_estudiantes['matematicas'] + \n",
    "                                     df_estudiantes['ciencias'] + \n",
    "                                     df_estudiantes['idiomas']) / 3\n",
    "\n",
    "print(df_estudiantes[['nombre', 'promedio_general']].round(1))"
   ]
  },
  {
   "cell_type": "code",
   "execution_count": null,
   "id": "4221abcd",
   "metadata": {},
   "outputs": [],
   "source": [
    "# 3.6 ORDENAR DATOS\n",
    "print(\"🔄 Ordenar por diferentes criterios:\")\n",
    "\n",
    "print(\"Por edad (menor a mayor):\")\n",
    "print(df_estudiantes[['nombre', 'edad']].sort_values('edad'))\n",
    "print()\n",
    "\n",
    "print(\"Por promedio general (mayor a menor):\")\n",
    "print(df_estudiantes[['nombre', 'promedio_general']].sort_values('promedio_general', ascending=False).round(1))\n",
    "print()\n",
    "\n",
    "# 3.7 FILTROS MÚLTIPLES\n",
    "print(\"🎯 Filtros combinados:\")\n",
    "print(\"Estudiantes de Ingeniería con promedio >= 87:\")\n",
    "filtro_complejo = df_estudiantes[\n",
    "    (df_estudiantes['carrera'] == 'Ingeniería') & \n",
    "    (df_estudiantes['promedio_general'] >= 87)\n",
    "]\n",
    "print(filtro_complejo[['nombre', 'carrera', 'promedio_general']].round(1))"
   ]
  },
  {
   "cell_type": "markdown",
   "id": "31e2c6b2",
   "metadata": {},
   "source": [
    "## 4. ¡Tu turno! Ejercicios Prácticos 🚀\n",
    "\n",
    "Ahora es momento de que practiques con los conceptos que acabamos de aprender. Aquí tienes algunos ejercicios:"
   ]
  },
  {
   "cell_type": "code",
   "execution_count": null,
   "id": "6d088711",
   "metadata": {},
   "outputs": [],
   "source": [
    "# EJERCICIO 1: Crear tu propio DataFrame\n",
    "# Crea un DataFrame con datos de tus películas favoritas\n",
    "# Incluye: título, año, género, calificación (1-10)\n",
    "\n",
    "# Tu código aquí:\n",
    "peliculas = {\n",
    "    'titulo': ['Matrix', 'Inception', 'Avengers', 'Titanic', 'Toy Story'],\n",
    "    'año': [1999, 2010, 2012, 1997, 1995],\n",
    "    'genero': ['Ciencia Ficción', 'Thriller', 'Acción', 'Drama', 'Animación'],\n",
    "    'calificacion': [9, 9, 8, 7, 8]\n",
    "}\n",
    "\n",
    "df_peliculas = pd.DataFrame(peliculas)\n",
    "print(\"🎬 Mis películas favoritas:\")\n",
    "print(df_peliculas)"
   ]
  },
  {
   "cell_type": "code",
   "execution_count": null,
   "id": "13030a40",
   "metadata": {},
   "outputs": [],
   "source": [
    "# EJERCICIO 2: Filtros y estadísticas\n",
    "print(\"📝 EJERCICIO 2 - Resuelve estas preguntas:\")\n",
    "\n",
    "# Pregunta A: ¿Cuál es la calificación promedio de las películas?\n",
    "promedio_calif = df_peliculas['calificacion'].mean()\n",
    "print(f\"A) Calificación promedio: {promedio_calif}\")\n",
    "\n",
    "# Pregunta B: ¿Qué películas tienen calificación >= 8?\n",
    "peliculas_altas = df_peliculas[df_peliculas['calificacion'] >= 8]\n",
    "print(f\"B) Películas con calificación ≥ 8:\")\n",
    "print(peliculas_altas[['titulo', 'calificacion']])\n",
    "\n",
    "# Pregunta C: ¿Cuál es la película más antigua?\n",
    "pelicula_antigua = df_peliculas.loc[df_peliculas['año'].idxmin()]\n",
    "print(f\"C) Película más antigua: {pelicula_antigua['titulo']} ({pelicula_antigua['año']})\")\n",
    "\n",
    "print()\n",
    "print(\"💡 ¡Ahora inténtalo tú! Modifica el código para:\")\n",
    "print(\"   - Agregar más películas\")\n",
    "print(\"   - Encontrar películas por género\")\n",
    "print(\"   - Calcular el promedio por década\")"
   ]
  },
  {
   "cell_type": "code",
   "execution_count": null,
   "id": "69e7a5a2",
   "metadata": {},
   "outputs": [],
   "source": [
    "# EJERCICIO 3: Espacio para tu práctica libre\n",
    "print(\"🎯 EJERCICIO 3 - Espacio libre para practicar\")\n",
    "print(\"Usa este espacio para experimentar con los datos de estudiantes o películas\")\n",
    "print()\n",
    "\n",
    "# Ejemplo de cosas que puedes probar:\n",
    "print(\"Ideas para practicar:\")\n",
    "print(\"1. Agregar nuevos estudiantes al DataFrame\")\n",
    "print(\"2. Crear una columna que indique si el estudiante está 'aprobado' (promedio >= 70)\")\n",
    "print(\"3. Encontrar el estudiante más joven y más viejo\")\n",
    "print(\"4. Agrupar por carrera y ver estadísticas\")\n",
    "print(\"5. Filtrar estudiantes con múltiples condiciones\")\n",
    "print()\n",
    "\n",
    "# Tu código de práctica aquí:\n",
    "# (Descomenta y modifica las siguientes líneas como ejercicio)\n",
    "\n",
    "# # Ejemplo: Estudiantes aprobados\n",
    "# df_estudiantes['aprobado'] = df_estudiantes['promedio_general'] >= 70\n",
    "# print(df_estudiantes[['nombre', 'promedio_general', 'aprobado']])\n",
    "\n",
    "print(\"¡Adelante, experimenta!\")"
   ]
  }
 ],
 "metadata": {
  "language_info": {
   "name": "python"
  }
 },
 "nbformat": 4,
 "nbformat_minor": 5
}
